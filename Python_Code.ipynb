{
  "nbformat": 4,
  "nbformat_minor": 0,
  "metadata": {
    "colab": {
      "provenance": []
    },
    "kernelspec": {
      "name": "python3",
      "display_name": "Python 3"
    },
    "language_info": {
      "name": "python"
    }
  },
  "cells": [
    {
      "cell_type": "markdown",
      "source": [
        "422MA5077\n",
        "Amisha Patel\n",
        "Assignment-II\n",
        "\n",
        "\n",
        "\n"
      ],
      "metadata": {
        "id": "jW47MMDthLKl"
      }
    },
    {
      "source": [
        "#Write a python script to solve x**2 + y**2 - 4 = 0, x - y + 1 = 0.\n",
        "!pip install sympy\n",
        "from sympy import symbols, Eq, solve\n",
        "x, y = symbols('x y')\n",
        "eq1 = Eq(x**2 + y**2, 4)\n",
        "eq2 = Eq(x - y, -1)\n",
        "solutions = solve((eq1, eq2), (x, y))\n",
        "print(solutions)"
      ],
      "cell_type": "code",
      "metadata": {
        "colab": {
          "base_uri": "https://localhost:8080/",
          "height": 0
        },
        "id": "QoS4KAlFjTLf",
        "outputId": "ef57a816-6c3b-482b-90c5-a3f96129cd34"
      },
      "execution_count": 37,
      "outputs": [
        {
          "output_type": "stream",
          "name": "stdout",
          "text": [
            "Requirement already satisfied: sympy in /usr/local/lib/python3.11/dist-packages (1.13.1)\n",
            "Requirement already satisfied: mpmath<1.4,>=1.1.0 in /usr/local/lib/python3.11/dist-packages (from sympy) (1.3.0)\n",
            "[(-1/2 + sqrt(7)/2, 1/2 + sqrt(7)/2), (-sqrt(7)/2 - 1/2, 1/2 - sqrt(7)/2)]\n"
          ]
        }
      ]
    },
    {
      "source": [
        "#Using Newton-Raphson method, with 3 as a starting point, to find the value of sqrt.10 within an accuracy of 10^-8.\n",
        "def f(x):\n",
        "  return x**2 - 10\n",
        "def df(x):\n",
        "  return 2*x\n",
        "def Newton_Raphson_method(f,df,xo,tol=1e-8,max_iter=100):\n",
        "  for i in range(max_iter):\n",
        "    x1 = xo-f(xo)/df(xo)\n",
        "    if df(xo) == 0 :\n",
        "        print(\"No solution possible for df=0\")\n",
        "        return None\n",
        "\n",
        "    if abs(x1-xo)<tol:\n",
        "      return x1\n",
        "    xo=x1\n",
        "  print(\"Maximum iteration reached without convergence\")\n",
        "  return None\n",
        "\n",
        "xo = 3\n",
        "root = Newton_Raphson_method(f,df,xo)\n",
        "print(root)\n",
        "print(f(root))"
      ],
      "cell_type": "code",
      "metadata": {
        "colab": {
          "base_uri": "https://localhost:8080/",
          "height": 0
        },
        "id": "VjXxdPNJpEls",
        "outputId": "91887660-d351-4bde-df80-55aa43c91ee5"
      },
      "execution_count": 38,
      "outputs": [
        {
          "output_type": "stream",
          "name": "stdout",
          "text": [
            "3.1622776601683795\n",
            "1.7763568394002505e-15\n"
          ]
        }
      ]
    },
    {
      "cell_type": "code",
      "source": [
        "#Explain what happens whe Newton's Method is applied to find the root of the equation:x**3 - 3*x + 6 starting with xo = 1.\n",
        "def f(x):\n",
        "  return x**3 - 3*x + 6\n",
        "def df(x):\n",
        "  return 3*x**2 -3\n",
        "def Newton_Raphson_method(f,df,xo,tol=1e-8,max_iter=100):\n",
        "  for i in range(max_iter):\n",
        "    x1 = xo-f(xo)/df(xo)\n",
        "    if df(xo) == 0 :\n",
        "        print(\"No solution possible for df=0\")\n",
        "        return None\n",
        "\n",
        "    if abs(x1-xo)<tol:\n",
        "      return x1\n",
        "    xo=x1\n",
        "  print(\"Maximum iteration reached without convergence\")\n",
        "  return None\n",
        "\n",
        "#xo = 1 for initial guess as 1 it is giving derivative = 0 for which solution is not possible.\n",
        "xo = -2\n",
        "root = Newton_Raphson_method(f,df,xo)\n",
        "print(root)\n",
        "print(f(root))"
      ],
      "metadata": {
        "id": "cfeNYPFEoVNB",
        "colab": {
          "base_uri": "https://localhost:8080/",
          "height": 0
        },
        "outputId": "6e42feb8-f6bd-4ba3-ffe6-2dee4930386c"
      },
      "execution_count": 39,
      "outputs": [
        {
          "output_type": "stream",
          "name": "stdout",
          "text": [
            "-2.35530139760812\n",
            "-1.7763568394002505e-15\n"
          ]
        }
      ]
    },
    {
      "cell_type": "code",
      "source": [
        "#Solve: x = tanx by bisection method.\n",
        "import math\n",
        "def f(x):\n",
        "  return math.tan(x) - x\n",
        "def bisection_method(f,a,b,tol=1e-8,max_iter=100):\n",
        "  if f(a)*f(b)>=0:\n",
        "    print(\"Change the initial guesses\")\n",
        "    return None\n",
        "  for i in range(max_iter):\n",
        "    c = (a+b)/2\n",
        "    if f(c)==0 or (b-a)<tol:\n",
        "      return c\n",
        "\n",
        "    if f(a)*f(b)<0:\n",
        "      b=c\n",
        "    else:\n",
        "      a = c\n",
        "    print(\"Maximum iteration is reached.\")\n",
        "    return a+b/2\n",
        "\n",
        "print(bisection_method(f,-0.1,0.1))\n",
        "print(f(-0.1))\n",
        "\n",
        "\n",
        "\n"
      ],
      "metadata": {
        "colab": {
          "base_uri": "https://localhost:8080/",
          "height": 0
        },
        "id": "EdvcYnGErCCu",
        "outputId": "63ded699-2a82-4082-c8cb-d00bc392f4a9"
      },
      "execution_count": 40,
      "outputs": [
        {
          "output_type": "stream",
          "name": "stdout",
          "text": [
            "0.0\n",
            "-0.0003346720854505436\n"
          ]
        }
      ]
    },
    {
      "cell_type": "code",
      "source": [
        "#Using bisection method find a root of the following equation: xsinx - 1 = 0 in [0,2].\n",
        "import math\n",
        "def f(x):\n",
        "  return x*math.sin(x) - 1\n",
        "def bisection_method(f,a,b,tol=1e-8,max_iter=100):\n",
        "  if f(a)*f(b)>=0:\n",
        "    print(\"Change the initial guesses\")\n",
        "    return None\n",
        "  for i in range(max_iter):\n",
        "    c = (a+b)/2\n",
        "    if f(c) == 0 or (b-a)/2 < tol:\n",
        "      return c\n",
        "\n",
        "    if f(c)*f(a)<0:\n",
        "      b=c\n",
        "    else:\n",
        "      a = c\n",
        "  print(\"Maximum iteration is reached.\")\n",
        "  return (a+b)/2\n",
        "\n",
        "root=bisection_method(f,0,2)\n",
        "print(root)\n",
        "print(f(root))\n"
      ],
      "metadata": {
        "colab": {
          "base_uri": "https://localhost:8080/",
          "height": 0
        },
        "id": "1136GKnYE6NQ",
        "outputId": "6f8ff807-c49a-428f-b2ca-aa89c43adc6c"
      },
      "execution_count": 41,
      "outputs": [
        {
          "output_type": "stream",
          "name": "stdout",
          "text": [
            "1.114157147705555\n",
            "9.490602304040863e-09\n"
          ]
        }
      ]
    },
    {
      "source": [
        "#Using bisection method find a root of the following equation: xsinx - 1 = 0 in [0,2].\n",
        "import math\n",
        "def f(x):\n",
        "  return math.cos(x)- math.sqrt(x)\n",
        "\n",
        "def bisection_method(f,a,b,tol=1e-6,max_iter=100):\n",
        "  if f(a)*f(b)>=0:\n",
        "    print(\"Change the initial guesses\")\n",
        "    return None\n",
        "  for i in range(max_iter):\n",
        "    c = (a+b)/2\n",
        "    if f(c) == 0 or abs(b-a/2) < tol:\n",
        "      return c\n",
        "\n",
        "    if f(c)*f(a)<0:\n",
        "      b=c\n",
        "    else:\n",
        "      a = c\n",
        "  print(\"Maximum iteration is reached.\")\n",
        "  return (a+b)/2\n",
        "\n",
        "root=bisection_method(f,0,1)\n",
        "print(root)\n",
        "print(f(root))"
      ],
      "cell_type": "code",
      "metadata": {
        "colab": {
          "base_uri": "https://localhost:8080/",
          "height": 0
        },
        "id": "TId7GwJOH6l0",
        "outputId": "06eaa1a1-b57f-4073-a71a-842f5556715b"
      },
      "execution_count": 42,
      "outputs": [
        {
          "output_type": "stream",
          "name": "stdout",
          "text": [
            "0.6417143708728826\n",
            "0.0\n"
          ]
        }
      ]
    },
    {
      "source": [
        "#Find the positive root of tan(piex) - 6 = 0 in [0,0.48] using secant method.\n",
        "import math\n",
        "def f(x):\n",
        "  return math.tan(math.pi*(x)) - 6\n",
        "def secant_method(f,xo,x1,tol=1e-8,max_iter=100):\n",
        "  if f(xo)*f(x1)>=0:\n",
        "    print(\"chnage the initial guesses\")\n",
        "    return None\n",
        "  for i in range(max_iter):\n",
        "    f_xo = f(xo)\n",
        "    f_x1 = f(x1)\n",
        "\n",
        "    if f_x1 - f_xo == 0:\n",
        "        print(\"Secant method failed: denominator is zero\")\n",
        "        return None\n",
        "    x2 = x1 - f_x1*(x1-xo)/(f_x1-f_xo)\n",
        "    if abs(x2-x1)<tol:\n",
        "      return x2\n",
        "    xo = x1\n",
        "    x1 = x2\n",
        "  print(\"Maximum iteration is reached.\")\n",
        "  return None\n",
        "\n",
        "xo = 0.44\n",
        "x1 = 0.48\n",
        "root = secant_method(f,xo,x1)\n",
        "\n",
        "if root is not None:\n",
        "    print(root)\n",
        "    print(f(root))\n",
        "else:\n",
        "    print(\"Root not found.\")"
      ],
      "cell_type": "code",
      "metadata": {
        "colab": {
          "base_uri": "https://localhost:8080/",
          "height": 0
        },
        "id": "qgKsV9x_MUCO",
        "outputId": "66a9eac8-b89a-412b-a565-335c816eb1d6"
      },
      "execution_count": 48,
      "outputs": [
        {
          "output_type": "stream",
          "name": "stdout",
          "text": [
            "0.44743154328874657\n",
            "-5.329070518200751e-15\n"
          ]
        }
      ]
    },
    {
      "cell_type": "code",
      "source": [
        "#A chemical firm produces q kg of a chemical per day for which it costs P(q) dollars. The cost-product relation can be written as the following:\n",
        "   #P(q) = 100 + 2q + 3q^(2/3)\n",
        "   #The firm sells any amount of chemical at rate of 5  dollars/kg. Find the break-even point of the firm,that is, how much it produce per day in order to have neither profit nor a loss. Use Newton-Raphson method to find an approximate answer.\n",
        "def f(q):\n",
        "    # The break-even equation f(q) = 100 - 3q + 3q**(2/3),when cost function = Revenue function =100+2q+3q*(2/3)=5q.\n",
        "\n",
        "    return 100 - 3*q + 3*q**(2/3)\n",
        "def df(q):\n",
        "    return -3 + 2*q**(-1/3)\n",
        "def newton_Raphson_method(f,df,q,tol=1.0e-6,max_iter=100):\n",
        "    for i in range(max_iter):\n",
        "        if df(q)==0:\n",
        "            print(\"Derivative is zero; no solution exists.\")\n",
        "            return None\n",
        "        q_new = q - f(q) / df(q)\n",
        "        if abs(q_new - q) < tol:\n",
        "            return q_new\n",
        "        q = q_new\n",
        "    print(\"Maximum iterations reached without convergence.\")\n",
        "    return None\n",
        "\n",
        "initial_guess = 50\n",
        "root = newton_Raphson_method(f, df, initial_guess)\n",
        "if root is not None:\n",
        "    print(f\"The root is approximately: {root}\")\n",
        "else:\n",
        "    print(\"The method failed to find a root.\")\n",
        "print(f(root))\n",
        "\n"
      ],
      "metadata": {
        "colab": {
          "base_uri": "https://localhost:8080/",
          "height": 0
        },
        "id": "gPcAEWWrNEOE",
        "outputId": "41576260-5d86-4e7d-aa79-b9b2004a0d2c"
      },
      "execution_count": 51,
      "outputs": [
        {
          "output_type": "stream",
          "name": "stdout",
          "text": [
            "The root is approximately: 46.2107474505418\n",
            "2.1316282072803006e-14\n"
          ]
        }
      ]
    },
    {
      "cell_type": "code",
      "source": [
        "#Consider the van der Walls equation of state:\n",
        "#(P + a/v**2)(v - b) = RT\n",
        "#Use Newton-Raphson method to compute the specific volume V of one mole gas at T = 300 K ,given P = 1,R = 0.082054J J(kg-K),a = 3.592 Pa-m**6/kg**2, b = 0.04267 m**2/kg.\n",
        "#Estimate the initial approximation Vo from the ideal gas law PV = RT.\n",
        "def f(V, P, R, T, a, b):\n",
        "    # van der Waals equation rearranged: f(V) = (P + a/V**2)(V - b) - RT\n",
        "    return (P + a / V**2) * (V - b) - R * T\n",
        "\n",
        "def df(V, P, R, T, a, b):\n",
        "    term1 = -(2 * a * (V - b)) / V**3\n",
        "    term2 = (P + a / V**2)\n",
        "    return term1 + term2\n",
        "\n",
        "def newton_raphson(f, df, V0, tol=1e-6, max_iter=100, P=1, R=0.082052, T=300, a=3.592, b=0.04267):\n",
        "    V = V0\n",
        "    for i in range(max_iter):\n",
        "        fV = f(V, P, R, T, a, b)\n",
        "        dfV = df(V, P, R, T, a, b)\n",
        "        if abs(fV) < tol:\n",
        "            return V\n",
        "        if dfV == 0:\n",
        "            print(\"Derivative is zero. No solution found.\")\n",
        "            return None\n",
        "        V = V - fV / dfV\n",
        "    print(\"Maximum iterations reached. No solution found.\")\n",
        "    return None\n",
        "\n",
        "P = 1\n",
        "R = 0.082052\n",
        "T = 300\n",
        "a = 3.592\n",
        "b = 0.04267\n",
        "\n",
        "P = P * 101325\n",
        "R = R * 101.325\n",
        "# Initial guess using ideal gas law: V0 = RT/P\n",
        "V0 = R * T / P\n",
        "V = newton_raphson(f, df, V0, P=P, R=R, T=T, a=a, b=b)\n",
        "\n",
        "if V is not None:\n",
        "    print(f\"The specific volume V is approximately: {V:.6f} m^3/mol\")\n",
        "else:\n",
        "    print(\"Could not find a solution.\")\n"
      ],
      "metadata": {
        "colab": {
          "base_uri": "https://localhost:8080/",
          "height": 0
        },
        "id": "corFq6zBOX7m",
        "outputId": "ea7ac52a-a17e-421d-f7b7-19da9906d8b8"
      },
      "execution_count": 52,
      "outputs": [
        {
          "output_type": "stream",
          "name": "stdout",
          "text": [
            "The specific volume V is approximately: 0.067093 m^3/mol\n"
          ]
        }
      ]
    },
    {
      "cell_type": "code",
      "source": [],
      "metadata": {
        "id": "psPoaoe1MjEI"
      },
      "execution_count": null,
      "outputs": []
    }
  ]
}